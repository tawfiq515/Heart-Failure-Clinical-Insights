{
 "cells": [
  {
   "cell_type": "code",
   "execution_count": 31,
   "metadata": {},
   "outputs": [],
   "source": [
    "import numpy as np\n",
    "import pandas as pd"
   ]
  },
  {
   "cell_type": "markdown",
   "metadata": {},
   "source": [
    "1. Read the \"heartFailureDataset.txt\" dataset into a Numpy array. You can use the \n",
    "appropriate Numpy function for reading tabular data."
   ]
  },
  {
   "cell_type": "code",
   "execution_count": 32,
   "metadata": {},
   "outputs": [
    {
     "data": {
      "text/html": [
       "<div>\n",
       "<style scoped>\n",
       "    .dataframe tbody tr th:only-of-type {\n",
       "        vertical-align: middle;\n",
       "    }\n",
       "\n",
       "    .dataframe tbody tr th {\n",
       "        vertical-align: top;\n",
       "    }\n",
       "\n",
       "    .dataframe thead th {\n",
       "        text-align: right;\n",
       "    }\n",
       "</style>\n",
       "<table border=\"1\" class=\"dataframe\">\n",
       "  <thead>\n",
       "    <tr style=\"text-align: right;\">\n",
       "      <th></th>\n",
       "      <th>ID</th>\n",
       "      <th>outcome</th>\n",
       "      <th>age</th>\n",
       "      <th>gendera</th>\n",
       "      <th>BMI</th>\n",
       "      <th>hypertensive</th>\n",
       "      <th>atrialfibrillation</th>\n",
       "      <th>CHD with no MI</th>\n",
       "      <th>diabetes</th>\n",
       "      <th>deficiencyanemias</th>\n",
       "      <th>...</th>\n",
       "      <th>Blood sodium</th>\n",
       "      <th>Blood calcium</th>\n",
       "      <th>Chloride</th>\n",
       "      <th>Anion gap</th>\n",
       "      <th>Magnesium ion</th>\n",
       "      <th>PH</th>\n",
       "      <th>Bicarbonate</th>\n",
       "      <th>Lactic acid</th>\n",
       "      <th>PCO2</th>\n",
       "      <th>EF</th>\n",
       "    </tr>\n",
       "  </thead>\n",
       "  <tbody>\n",
       "    <tr>\n",
       "      <th>0</th>\n",
       "      <td>125047</td>\n",
       "      <td>0.0</td>\n",
       "      <td>72</td>\n",
       "      <td>1</td>\n",
       "      <td>37.588179</td>\n",
       "      <td>0</td>\n",
       "      <td>0</td>\n",
       "      <td>0</td>\n",
       "      <td>1</td>\n",
       "      <td>1</td>\n",
       "      <td>...</td>\n",
       "      <td>138.750000</td>\n",
       "      <td>7.463636</td>\n",
       "      <td>109.166667</td>\n",
       "      <td>13.166667</td>\n",
       "      <td>2.618182</td>\n",
       "      <td>7.230</td>\n",
       "      <td>21.166667</td>\n",
       "      <td>0.5</td>\n",
       "      <td>40.0</td>\n",
       "      <td>55</td>\n",
       "    </tr>\n",
       "    <tr>\n",
       "      <th>1</th>\n",
       "      <td>139812</td>\n",
       "      <td>0.0</td>\n",
       "      <td>75</td>\n",
       "      <td>2</td>\n",
       "      <td>NaN</td>\n",
       "      <td>0</td>\n",
       "      <td>0</td>\n",
       "      <td>0</td>\n",
       "      <td>0</td>\n",
       "      <td>1</td>\n",
       "      <td>...</td>\n",
       "      <td>138.888889</td>\n",
       "      <td>8.162500</td>\n",
       "      <td>98.444444</td>\n",
       "      <td>11.444444</td>\n",
       "      <td>1.887500</td>\n",
       "      <td>7.225</td>\n",
       "      <td>33.444444</td>\n",
       "      <td>0.5</td>\n",
       "      <td>78.0</td>\n",
       "      <td>55</td>\n",
       "    </tr>\n",
       "    <tr>\n",
       "      <th>2</th>\n",
       "      <td>109787</td>\n",
       "      <td>0.0</td>\n",
       "      <td>83</td>\n",
       "      <td>2</td>\n",
       "      <td>26.572634</td>\n",
       "      <td>0</td>\n",
       "      <td>0</td>\n",
       "      <td>0</td>\n",
       "      <td>0</td>\n",
       "      <td>1</td>\n",
       "      <td>...</td>\n",
       "      <td>140.714286</td>\n",
       "      <td>8.266667</td>\n",
       "      <td>105.857143</td>\n",
       "      <td>10.000000</td>\n",
       "      <td>2.157143</td>\n",
       "      <td>7.268</td>\n",
       "      <td>30.571429</td>\n",
       "      <td>0.5</td>\n",
       "      <td>71.5</td>\n",
       "      <td>35</td>\n",
       "    </tr>\n",
       "    <tr>\n",
       "      <th>3</th>\n",
       "      <td>130587</td>\n",
       "      <td>0.0</td>\n",
       "      <td>43</td>\n",
       "      <td>2</td>\n",
       "      <td>83.264629</td>\n",
       "      <td>0</td>\n",
       "      <td>0</td>\n",
       "      <td>0</td>\n",
       "      <td>0</td>\n",
       "      <td>0</td>\n",
       "      <td>...</td>\n",
       "      <td>138.500000</td>\n",
       "      <td>9.476923</td>\n",
       "      <td>92.071429</td>\n",
       "      <td>12.357143</td>\n",
       "      <td>1.942857</td>\n",
       "      <td>7.370</td>\n",
       "      <td>38.571429</td>\n",
       "      <td>0.6</td>\n",
       "      <td>75.0</td>\n",
       "      <td>55</td>\n",
       "    </tr>\n",
       "    <tr>\n",
       "      <th>4</th>\n",
       "      <td>138290</td>\n",
       "      <td>0.0</td>\n",
       "      <td>75</td>\n",
       "      <td>2</td>\n",
       "      <td>31.824842</td>\n",
       "      <td>1</td>\n",
       "      <td>0</td>\n",
       "      <td>0</td>\n",
       "      <td>0</td>\n",
       "      <td>1</td>\n",
       "      <td>...</td>\n",
       "      <td>136.666667</td>\n",
       "      <td>8.733333</td>\n",
       "      <td>104.500000</td>\n",
       "      <td>15.166667</td>\n",
       "      <td>1.650000</td>\n",
       "      <td>7.250</td>\n",
       "      <td>22.000000</td>\n",
       "      <td>0.6</td>\n",
       "      <td>50.0</td>\n",
       "      <td>55</td>\n",
       "    </tr>\n",
       "  </tbody>\n",
       "</table>\n",
       "<p>5 rows × 50 columns</p>\n",
       "</div>"
      ],
      "text/plain": [
       "       ID  outcome  age  gendera        BMI  hypertensive  atrialfibrillation  \\\n",
       "0  125047      0.0   72        1  37.588179             0                   0   \n",
       "1  139812      0.0   75        2        NaN             0                   0   \n",
       "2  109787      0.0   83        2  26.572634             0                   0   \n",
       "3  130587      0.0   43        2  83.264629             0                   0   \n",
       "4  138290      0.0   75        2  31.824842             1                   0   \n",
       "\n",
       "   CHD with no MI  diabetes  deficiencyanemias  ...  Blood sodium  \\\n",
       "0               0         1                  1  ...    138.750000   \n",
       "1               0         0                  1  ...    138.888889   \n",
       "2               0         0                  1  ...    140.714286   \n",
       "3               0         0                  0  ...    138.500000   \n",
       "4               0         0                  1  ...    136.666667   \n",
       "\n",
       "   Blood calcium    Chloride  Anion gap  Magnesium ion     PH  Bicarbonate  \\\n",
       "0       7.463636  109.166667  13.166667       2.618182  7.230    21.166667   \n",
       "1       8.162500   98.444444  11.444444       1.887500  7.225    33.444444   \n",
       "2       8.266667  105.857143  10.000000       2.157143  7.268    30.571429   \n",
       "3       9.476923   92.071429  12.357143       1.942857  7.370    38.571429   \n",
       "4       8.733333  104.500000  15.166667       1.650000  7.250    22.000000   \n",
       "\n",
       "   Lactic acid  PCO2  EF  \n",
       "0          0.5  40.0  55  \n",
       "1          0.5  78.0  55  \n",
       "2          0.5  71.5  35  \n",
       "3          0.6  75.0  55  \n",
       "4          0.6  50.0  55  \n",
       "\n",
       "[5 rows x 50 columns]"
      ]
     },
     "execution_count": 32,
     "metadata": {},
     "output_type": "execute_result"
    }
   ],
   "source": [
    "df =pd.read_csv(r\"C:\\Users\\User\\Desktop\\HeartFailureDataset 2 (3).csv\")\n",
    "df.head()"
   ]
  },
  {
   "cell_type": "code",
   "execution_count": 33,
   "metadata": {},
   "outputs": [],
   "source": [
    "with open(r\"C:\\Users\\User\\Desktop\\HeartFailureDataset 2 (3).csv\", 'r') as file:\n",
    "    feature_names = file.readline().strip().split('\\t')\n",
    "feature_names=','.join(feature_names)\n"
   ]
  },
  {
   "cell_type": "markdown",
   "metadata": {},
   "source": [
    "هذا الكود يقوم بفتح ملف CSV واستخراج أسماء السمات (الأعمدة) من الصف الأول في الملف. ولكن هنا هناك خطأ في الاستخدام المحتمل للفاصلة. يتوقع الكود أن تكون القيم في الملف CSV مفصولة بفاصلة أفقية (`'\\t'`)، ولكن يبدو أن الملف قد يكون مفصولًا بفاصلة عادية (`,`).\n",
    "\n",
    "إليك تفسير للخطوات:\n",
    "\n",
    "1. `with open(r\"C:\\Users\\User\\Desktop\\HeartFailureDataset 2 (3).csv\", 'r') as file:`:\n",
    "   - يتم فتح ملف CSV في وضع القراءة (`'r'`). يتم استخدام `with` لضمان أن يتم إغلاق الملف بشكل صحيح بعد القراءة.\n",
    "\n",
    "2. `feature_names = file.readline().strip().split('\\t')`:\n",
    "   - يتم قراءة الصف الأول (الصف الذي يحتوي على أسماء السمات) من الملف.\n",
    "   - `strip()` تزيل الفراغات الزائدة من بداية ونهاية السطر.\n",
    "   - `split('\\t')` تقسم السطر إلى قائمة باستخدام فاصلة أفقية (`'\\t'`) كفاصل.\n",
    "\n",
    "3. `feature_names=','.join(feature_names)`:\n",
    "   - يقوم بدمج أسماء السمات في سلسلة نصية واحدة باستخدام الفاصلة `,` كفاصل بينها.\n",
    "\n",
    "4. `feature_names=feature_names.split(',')`:\n",
    "   - يقوم بتقسيم السلسلة إلى قائمة باستخدام الفاصلة `,` كفاصل.\n",
    "\n",
    "5. `print(\"data features are \",feature_names)`:\n",
    "   - يقوم بطباعة أسماء السمات.\n",
    "\n",
    "يرجى مراعاة أنه إذا كان الملف مفصولًا بفاصلة عادية (`,`), قد تحتاج إلى تعديل الفاصلة في الدوال `split` و `join` إلى `','` بدلاً من `'\\t'`."
   ]
  },
  {
   "cell_type": "code",
   "execution_count": 34,
   "metadata": {},
   "outputs": [
    {
     "name": "stdout",
     "output_type": "stream",
     "text": [
      "data features are  ['ID', 'outcome', 'age', 'gendera', 'BMI', 'hypertensive', 'atrialfibrillation', 'CHD with no MI', 'diabetes', 'deficiencyanemias', 'depression', 'Hyperlipemia', 'Renal failure', 'COPD', 'heart rate', 'Systolic blood pressure', 'Diastolic blood pressure', 'Respiratory rate', 'temperature', 'SP O2', 'Urine output', 'hematocrit', 'RBC', 'MCH', 'MCHC', 'MCV', 'RDW', 'Leucocyte', 'Platelets', 'Neutrophils', 'Basophils', 'Lymphocyte', 'PT', 'INR', 'NT-proBNP', 'Creatine kinase', 'Creatinine', 'Urea nitrogen', 'glucose', 'Blood potassium', 'Blood sodium', 'Blood calcium', 'Chloride', 'Anion gap', 'Magnesium ion', 'PH', 'Bicarbonate', 'Lactic acid', 'PCO2', 'EF']\n"
     ]
    }
   ],
   "source": [
    "feature_names=feature_names.split(',')\n",
    "print(\"data features are \",feature_names)"
   ]
  },
  {
   "cell_type": "markdown",
   "metadata": {},
   "source": [
    "بالطبع، دعونا نقوم بشرح هذا الجزء من الكود:\n",
    "\n",
    "1. `feature_names=feature_names.split(',')`:\n",
    "   - يستخدم `split(',')` لتقسيم السلسلة `feature_names` إلى قائمة باستخدام الفاصلة `,` كفاصل.\n",
    "   - يتم تقسيم السلسلة إلى عناصر فردية بناءً على موقع الفاصلة.\n",
    "\n",
    "2. `print(\"data features are \",feature_names)`:\n",
    "   - يستخدم `print` لطباعة رسالة تحتوي على نص \"data features are \" متبوعًا بالعناصر في قائمة `feature_names`.\n",
    "   - يطبع قائمة السمات (الأعمدة) في البيانات.\n",
    "\n",
    "على سبيل المثال، إذا كانت `feature_names` هي \"Name, Age, Occupation\"، سيؤدي الكود إلى طباعة:\n",
    "\n",
    "```\n",
    "data features are ['Name', ' Age', ' Occupation']\n",
    "```\n",
    "\n",
    "يرجى مراعاة أن وجود فراغ قبل بعض السمات (`' Age'`) قد يكون ناتجًا عن استخدام `strip()` على السطر الأصلي."
   ]
  },
  {
   "cell_type": "code",
   "execution_count": 35,
   "metadata": {},
   "outputs": [],
   "source": [
    "nparray=np.array(df)\n"
   ]
  },
  {
   "cell_type": "markdown",
   "metadata": {},
   "source": [
    "2. Calculate the mean and standard deviation of the “heart rate” values for each “gender”\n",
    "across all patients. Then, identify the “gender: with the lowest mean heart rate."
   ]
  },
  {
   "cell_type": "code",
   "execution_count": 36,
   "metadata": {},
   "outputs": [
    {
     "name": "stdout",
     "output_type": "stream",
     "text": [
      "mean of the male 84.36778837735726\n",
      "standard deviation of the male 15.954616665632308\n",
      "mean of the female 84.80731991110707\n",
      "standard deviation of the female 16.072054208238853\n",
      "the gender with the lowest mean heart rate is the male 84.36778837735726\n"
     ]
    }
   ],
   "source": [
    "mask_male=nparray[::,3]>1\n",
    "heart_rate=nparray[::,14]\n",
    "mmean=np.nanmean(heart_rate[mask_male])\n",
    "mstd=np.nanstd(heart_rate[mask_male])\n",
    "print(\"mean of the male\",mmean)\n",
    "print(\"standard deviation of the male\",mstd)\n",
    "mask_female=nparray[::,3]<2\n",
    "heart_rate=nparray[::,14]\n",
    "fmean=np.nanmean(heart_rate[mask_female])\n",
    "fstd=np.nanstd(heart_rate[mask_female])\n",
    "print(\"mean of the female\",fmean)\n",
    "print(\"standard deviation of the female\",fstd)\n",
    "print(\"the gender with the lowest mean heart rate is the male\",mmean)"
   ]
  },
  {
   "cell_type": "markdown",
   "metadata": {},
   "source": [
    "بالتأكيد، دعونا نقسم الشرح إلى خطوات أكثر تفصيلاً ونقدم تفسيرًا لكل سطر في الكود:\n",
    "\n",
    "```python\n",
    "# تم تحديد mask_male لاختيار السجلات التي تنتمي للذكور (القيمة في العمود 3 هي أكبر من 1)\n",
    "mask_male = nparray[:, 3] > 1\n",
    "```\n",
    "\n",
    "1. تم إنشاء متغير `mask_male` الذي يحتوي على مصفوفة بولية (`True` أو `False`) تشير إلى ما إذا كانت قيمة الجنس لكل سجل تمثل ذكر أم لا. يتم ذلك بفحص قيم العمود 3 (`nparray[:, 3]`) والتحقق مما إذا كانت أكبر من 1.\n",
    "\n",
    "```python\n",
    "# استخدام نصف النطاق (slicing) للحصول على قيم معدل ضربات القلب للذكور\n",
    "heart_rate_male = nparray[mask_male, 14]\n",
    "```\n",
    "\n",
    "2. تم استخدام `mask_male` لاستخراج قيم ضربات القلب للذكور. يتم ذلك باستخدام القناع في نصف النطاق (`nparray[mask_male, 14]`) لاستخراج الصفوف التي تطابق الشرط والعمود 14 الذي يحتوي على قيم ضربات القلب.\n",
    "\n",
    "```python\n",
    "# حساب المتوسط والانحراف المعياري باستخدام np.nanmean و np.nanstd لتجاهل القيم المفقودة (NaN)\n",
    "mmean = np.nanmean(heart_rate_male)\n",
    "mstd = np.nanstd(heart_rate_male)\n",
    "```\n",
    "\n",
    "3. تم حساب متوسط وانحراف معياري لضربات القلب للذكور باستخدام `np.nanmean` و `np.nanstd`. هذه الدوال تستخدم لحساب المتوسط والانحراف المعياري على التوالي مع تجاهل القيم المفقودة (NaN).\n",
    "\n",
    "```python\n",
    "# تكرار الخطوات السابقة للإناث\n",
    "mask_female = nparray[:, 3] < 2\n",
    "heart_rate_female = nparray[mask_female, 14]\n",
    "fmean = np.nanmean(heart_rate_female)\n",
    "fstd = np.nanstd(heart_rate_female)\n",
    "```\n",
    "\n",
    "4. تم إعادة هذه الخطوات للإناث. تم تحديد `mask_female` باستخدام قيم الجنس الأقل من 2 ومن ثم استخراج قيم ضربات القلب للإناث.\n",
    "\n",
    "```python\n",
    "# طباعة المتوسط والانحراف المعياري لضربات القلب للذكور والإناث\n",
    "print(\"Mean of the male heart rate:\", mmean)\n",
    "print(\"Standard deviation of the male heart rate:\", mstd)\n",
    "\n",
    "print(\"Mean of the female heart rate:\", fmean)\n",
    "print(\"Standard deviation of the female heart rate:\", fstd)\n",
    "```\n",
    "\n",
    "5. تم طباعة المتوسط والانحراف المعياري لضربات القلب للذكور والإناث.\n",
    "\n",
    "```python\n",
    "# طباعة النتيجة الختامية\n",
    "print(\"The gender with the lowest mean heart rate is the male. Mean:\", mmean)\n",
    "```\n",
    "\n",
    "6. تم طباعة النتيجة الختامية التي تشير إلى أن الذكور لديهم أقل متوسط لضربات القلب."
   ]
  },
  {
   "cell_type": "markdown",
   "metadata": {},
   "source": [
    "3. Calculate the median and interquartile range of all features. Then, identify the feature\n",
    "with the smallest and largest interquartile range.\n"
   ]
  },
  {
   "cell_type": "code",
   "execution_count": 37,
   "metadata": {},
   "outputs": [
    {
     "name": "stdout",
     "output_type": "stream",
     "text": [
      "the median of all features [0.00000000e+00 7.70000000e+01 2.00000000e+00 2.83124741e+01\n",
      " 1.00000000e+00 0.00000000e+00 0.00000000e+00 0.00000000e+00\n",
      " 0.00000000e+00 0.00000000e+00 0.00000000e+00 0.00000000e+00\n",
      " 0.00000000e+00 8.36107994e+01 1.16128205e+02 5.84615385e+01\n",
      " 2.03723077e+01 3.66507942e+01 9.64522727e+01 1.67500000e+03\n",
      " 3.08000000e+01 3.49000000e+00 2.97500000e+01 3.29857143e+01\n",
      " 9.00000000e+01 1.55062500e+01 9.68000000e+00 2.22666667e+02\n",
      " 8.24666667e+01 3.00000000e-01 1.04750000e+01 1.46333333e+01\n",
      " 1.30000000e+00 5.84000000e+03 8.92500000e+01 1.28750000e+00\n",
      " 3.06666667e+01 1.36400000e+02 4.11538461e+00 1.39250000e+02\n",
      " 8.50000000e+00 1.02500000e+02 1.36666667e+01 2.09230769e+00\n",
      " 7.38000000e+00 2.65000000e+01 1.60000000e+00 4.30000000e+01\n",
      " 5.50000000e+01]\n",
      "the feature with max IQR NT-proBNP\n",
      "the feature with min IQR outcome\n"
     ]
    }
   ],
   "source": [
    "print(\"the median of all features\",np.nanmedian(nparray[::,1:],axis=0))\n",
    "Q1 = np.nanpercentile(nparray[::,1:], 25, axis=0)\n",
    "Q3 = np.nanpercentile(nparray[::,1:], 75, axis=0)\n",
    "IQR = Q3-Q1\n",
    "max_index=np.argmax(IQR)\n",
    "min_index=np.argmin(IQR)\n",
    "print(\"the feature with max IQR\",feature_names[1:][max_index])\n",
    "print(\"the feature with min IQR\",feature_names[1:][min_index])"
   ]
  },
  {
   "cell_type": "markdown",
   "metadata": {},
   "source": [
    "في هذا الكود، يتم حساب القيم التالية لجميع الميزات:\n",
    "\n",
    "1. **المتوسط (Median) لجميع الميزات:**\n",
    "   ```python\n",
    "   np.nanmedian(nparray[::, 1:], axis=0)\n",
    "   ```\n",
    "   يتم استخدام `np.nanmedian` لحساب المتوسط بتجاهل القيم المفقودة (NaN)، ويتم ذلك لكل ميزة (`axis=0`).\n",
    "\n",
    "2. **الربع الأول (Q1) والربع الثالث (Q3) والنطاق الداخلي بين الربعين (IQR) لكل ميزة:**\n",
    "   ```python\n",
    "   Q1 = np.nanpercentile(nparray[::, 1:], 25, axis=0)\n",
    "   Q3 = np.nanpercentile(nparray[::, 1:], 75, axis=0)\n",
    "   IQR = Q3 - Q1\n",
    "   ```\n",
    "   يتم حساب الربع الأول والربع الثالث والنطاق الداخلي بين الربعين (IQR) باستخدام `np.nanpercentile`، حيث يتم حساب القيم لكل ميزة (`axis=0`).\n",
    "\n",
    "3. **الميزة ذات أعلى IQR وأقل IQR:**\n",
    "   ```python\n",
    "   max_index = np.argmax(IQR)\n",
    "   min_index = np.argmin(IQR)\n",
    "   ```\n",
    "   يتم استخدام `np.argmax` و `np.argmin` للعثور على فهم الخطأ في القيمة القصوى والقيمة الدنيا لـ IQR. ثم يتم استخدام هذه الفهم للعثور على أسماء الميزات المتعلقة باستخدام `feature_names`.\n",
    "\n",
    "تمثل هذه الخطوات تحليلًا إحصائيًا للبيانات، حيث يتم استخدام الميديان والربعين لفهم التوزيع والتشتت في البيانات. الرسائل المطبوعة توفر معلومات حول قيمة الميديان والربعين، بالإضافة إلى الميزة ذات أعلى وأقل IQR."
   ]
  },
  {
   "cell_type": "markdown",
   "metadata": {},
   "source": [
    "4. Using the np.sum function, calculate the total “blood pressure” (“Systolic blood \n",
    "pressure” and “Diastolic blood pressure”) value for each patient. Then, print the top 10\n",
    "“patient IDs” with the highest blood pressure values."
   ]
  },
  {
   "cell_type": "code",
   "execution_count": 38,
   "metadata": {},
   "outputs": [
    {
     "name": "stdout",
     "output_type": "stream",
     "text": [
      "the top 10 patient have the highest blood pressure [178001. 163199. 190823. 196856. 118932. 169263. 189112. 196981. 184453.\n",
      " 114085.]\n"
     ]
    }
   ],
   "source": [
    "blood_pressure=np.nansum(nparray[::,15:17],axis=1)\n",
    "sorter=np.argsort(blood_pressure,axis=0)[::-1]\n",
    "ID=nparray[::,0]\n",
    "top10_blood_pressure=ID[sorter[0:10]]\n",
    "print(\"the top 10 patient have the highest blood pressure\",top10_blood_pressure)"
   ]
  },
  {
   "cell_type": "markdown",
   "metadata": {},
   "source": [
    "في هذا الكود، يتم القيام بالخطوات التالية:\n",
    "\n",
    "1. **حساب إجمالي ضغط الدم لكل مريض:**\n",
    "   ```python\n",
    "   blood_pressure = np.nansum(nparray[::, 15:17], axis=1)\n",
    "   ```\n",
    "   يتم استخدام `np.nansum` لحساب إجمالي ضغط الدم لكل مريض، حيث يتم جمع القيم من العمود 15 والعمود 16 (Systolic و Diastolic blood pressure) لكل صف.\n",
    "\n",
    "2. **فرز المرضى حسب إجمالي ضغط الدم بترتيب تنازلي:**\n",
    "   ```python\n",
    "   sorter = np.argsort(blood_pressure, axis=0)[::-1]\n",
    "   ```\n",
    "   يتم استخدام `np.argsort` للحصول على مصفوفة تحتوي على مؤشرات الصفوف المرتبة وفقًا لإجمالي ضغط الدم. `[::-1]` يقوم بعكس النتائج للحصول على ترتيب تنازلي.\n",
    "\n",
    "3. **الحصول على أسماء المرضى العشرة الأوائل:**\n",
    "   ```python\n",
    "   ID = nparray[::, 0]\n",
    "   top10_blood_pressure = ID[sorter[0:10]]\n",
    "   ```\n",
    "   يتم استخدام المؤشرات المرتبة للحصول على أسماء المرضى العشرة الأوائل.\n",
    "\n",
    "4. **طباعة النتائج:**\n",
    "   ```python\n",
    "   print(\"The top 10 patients with the highest blood pressure:\", top10_blood_pressure)\n",
    "   ```\n",
    "   يتم طباعة أسماء المرضى العشرة الأوائل الذين يعانون من أعلى ضغط دم.\n",
    "\n",
    "هذا الكود يقدم نظرة سريعة عن المرضى الذين يعانون من أعلى ضغط دم باستخدام إجمالي ضغط الدم الذي تم حسابه من قيم Systolic و Diastolic blood pressure."
   ]
  },
  {
   "cell_type": "markdown",
   "metadata": {},
   "source": [
    "5. Sort the patients in descending order based on their “glucose” values. Print the patients \n",
    "IDs the patient IDs of the top 10 patients based on their \"glucose\" values."
   ]
  },
  {
   "cell_type": "code",
   "execution_count": 39,
   "metadata": {},
   "outputs": [
    {
     "name": "stdout",
     "output_type": "stream",
     "text": [
      "top 10 patients based on there glucose values  [194828. 173649. 121701. 159518. 193287. 114936. 101851. 166548. 192990.\n",
      " 174478.]\n"
     ]
    }
   ],
   "source": [
    "id_gol=nparray[::,0:39:38]\n",
    "_indices = np.argsort(np.nan_to_num(id_gol[:, 1]))\n",
    "_data = id_gol[_indices][::-1]\n",
    "print(\"top 10 patients based on there glucose values \",_data[:10,0])"
   ]
  },
  {
   "cell_type": "markdown",
   "metadata": {},
   "source": [
    "في هذا الكود، يتم القيام بالخطوات التالية:\n",
    "\n",
    "1. **استخراج أعمدة \"ID\" و \"Glucose\" من البيانات:**\n",
    "   ```python\n",
    "   id_gol = nparray[:, 0:39:38]\n",
    "   ```\n",
    "   تم استخراج الأعمدة المرتبطة بـ \"ID\" و \"Glucose\" من البيانات.\n",
    "\n",
    "2. **فرز المرضى حسب قيم الجلوكوز بترتيب تنازلي:**\n",
    "   ```python\n",
    "   _indices = np.argsort(np.nan_to_num(id_gol[:, 1]))\n",
    "   ```\n",
    "   يتم استخدام `np.argsort` للحصول على مؤشرات الصفوف المرتبة وفقًا لقيم الجلوكوز، و `np.nan_to_num` تُستخدم لتحويل NaN إلى صفر.\n",
    "\n",
    "3. **استخراج البيانات المرتبة بناءً على الفهم:**\n",
    "   ```python\n",
    "   _data = id_gol[_indices][::-1]\n",
    "   ```\n",
    "   يتم استخراج البيانات بناءً على المؤشرات المرتبة بترتيب تنازلي.\n",
    "\n",
    "4. **الحصول على أسماء المرضى العشرة الأوائل:**\n",
    "   ```python\n",
    "   print(\"Top 10 patients based on their glucose values:\", _data[:10, 0])\n",
    "   ```\n",
    "   يتم استخدام الفهم للحصول على أسماء المرضى العشرة الأوائل.\n",
    "\n",
    "هذا الكود يُظهر المرضى العشرة الأوائل الذين يمتلكون أعلى قيم للجلوكوز، حيث يتم استخدام فهم القيم لفرز البيانات."
   ]
  },
  {
   "cell_type": "markdown",
   "metadata": {},
   "source": [
    "6. Using fancy indexing, substitute the \"Creatinine\" values of the top 5 patients, with the \n",
    "corresponding median value of that feature."
   ]
  },
  {
   "cell_type": "code",
   "execution_count": 40,
   "metadata": {},
   "outputs": [
    {
     "name": "stdout",
     "output_type": "stream",
     "text": [
      "the median of the Creatinine  1.2875\n",
      "the top 5 Creatinine  [15.52727273 12.8375     12.45        9.2         9.0125    ]\n"
     ]
    }
   ],
   "source": [
    "Creatinine=nparray[::,36]\n",
    "step6_median=np.nanmedian(Creatinine)\n",
    "top_5=np.sort(Creatinine)[-1:-6:-1]\n",
    "print(\"the median of the Creatinine \",step6_median)\n",
    "print(\"the top 5 Creatinine \",top_5)"
   ]
  },
  {
   "cell_type": "markdown",
   "metadata": {},
   "source": [
    "في هذا الكود، يتم القيام بالخطوات التالية:\n",
    "\n",
    "1. **استخراج قيم Creatinine:**\n",
    "   ```python\n",
    "   Creatinine = nparray[:, 36]\n",
    "   ```\n",
    "   يتم استخراج قيم Creatinine من العمود 36 في البيانات.\n",
    "\n",
    "2. **حساب الميديان لـ Creatinine:**\n",
    "   ```python\n",
    "   step6_median = np.nanmedian(Creatinine)\n",
    "   ```\n",
    "   يتم حساب الميديان باستخدام `np.nanmedian` لتجاهل القيم المفقودة (NaN).\n",
    "\n",
    "3. **الحصول على أعلى 5 قيم لـ Creatinine:**\n",
    "   ```python\n",
    "   top_5 = np.sort(Creatinine)[-1:-6:-1]\n",
    "   ```\n",
    "   يتم استخدام `np.sort` لفرز القيم بترتيب تصاعدي، ومن ثم الحصول على أعلى 5 قيم باستخدام الفهم `[-1:-6:-1]` الذي يقوم بتحديد القيم من الأخيرة إلى الخامسة من الأخير بترتيب تنازلي.\n",
    "\n",
    "4. **طباعة النتائج:**\n",
    "   ```python\n",
    "   print(\"The median of Creatinine:\", step6_median)\n",
    "   print(\"The top 5 Creatinine values:\", top_5)\n",
    "   ```\n",
    "   يتم طباعة قيمة الميديان وأعلى 5 قيم لـ Creatinine.\n",
    "\n",
    "هذا الكود يعرض الميديان وأعلى 5 قيم لـ Creatinine في مجموعة البيانات."
   ]
  },
  {
   "cell_type": "markdown",
   "metadata": {},
   "source": [
    "7. Using np.argpartition, identify the top 100 values of each feature. Subsequently, compute \n",
    "the mean of each feature, considering only the 100 highest values."
   ]
  },
  {
   "cell_type": "code",
   "execution_count": 41,
   "metadata": {},
   "outputs": [
    {
     "name": "stdout",
     "output_type": "stream",
     "text": [
      "[1.00000000e+00 9.03700000e+01 2.00000000e+00 5.03714143e+01\n",
      " 1.00000000e+00 1.00000000e+00 1.00000000e+00 1.00000000e+00\n",
      " 1.00000000e+00 1.00000000e+00 1.00000000e+00 1.00000000e+00\n",
      " 8.90000000e-01 1.15359805e+02 1.54173295e+02 8.20720072e+01\n",
      " 2.88594925e+01 3.78776280e+01 9.95513028e+01 4.79188000e+03\n",
      " 4.34353877e+01 4.95579567e+00 3.38098872e+01 3.51965372e+01\n",
      " 1.01689118e+02 2.08041346e+01 2.25279238e+01 4.90841796e+02\n",
      " 9.36561417e+01 1.21010000e+00 3.14419151e+01 3.63882841e+01\n",
      " 3.77744590e+00 4.41983650e+04 1.51762391e+03 4.83488899e+00\n",
      " 8.95400691e+01 2.72687916e+02 5.07962695e+00 1.45588478e+02\n",
      " 9.56285978e+00 1.12012338e+02 1.96314692e+01 2.66757224e+00\n",
      " 7.48530198e+00 3.76947359e+01 4.04982866e+00 7.28245208e+01\n",
      " 7.01200000e+01]\n",
      "{'outcome': 1.0, 'age': 90.37, 'gendera': 2.0, 'BMI': 50.371414275999975, 'hypertensive': 1.0, 'atrialfibrillation': 1.0, 'CHD with no MI': 1.0, 'diabetes': 1.0, 'deficiencyanemias': 1.0, 'depression': 1.0, 'Hyperlipemia': 1.0, 'Renal failure': 1.0, 'COPD': 0.89, 'heart rate': 115.35980485099999, 'Systolic blood pressure': 154.173294789, 'Diastolic blood pressure': 82.07200724559999, 'Respiratory rate': 28.8594924729, 'temperature': 37.87762802320001, 'SP O2': 99.55130279589999, 'Urine output': 4791.88, 'hematocrit': 43.43538769829999, 'RBC': 4.955795674610001, 'MCH': 33.8098871642, 'MCHC': 35.19653720120001, 'MCV': 101.68911754909999, 'RDW': 20.8041345916, 'Leucocyte': 22.5279237511, 'Platelets': 490.841796176, 'Neutrophils': 93.65614166669995, 'Basophils': 1.2100999999999997, 'Lymphocyte': 31.441915079499996, 'PT': 36.38828412929999, 'INR': 3.7774458957599997, 'NT-proBNP': 44198.365, 'Creatine kinase': 1517.623911621, 'Creatinine': 4.834888985560001, 'Urea nitrogen': 89.54006910610002, 'glucose': 272.687916289, 'Blood potassium': 5.079626953869999, 'Blood sodium': 145.588478039, 'Blood calcium': 9.562859784950001, 'Chloride': 112.01233772599997, 'Anion gap': 19.631469172200003, 'Magnesium ion': 2.6675722421599994, 'PH': 7.485301976350005, 'Bicarbonate': 37.6947358824, 'Lactic acid': 4.04982866191, 'PCO2': 72.82452080600004, 'EF': 70.12}\n"
     ]
    }
   ],
   "source": [
    "mean_top_100=np.nanmean(np.take_along_axis(nparray[:,1:], np.argpartition(np.nan_to_num(nparray[:,1:]), -100, axis=0)[-100:], axis=0),axis=0)\n",
    "print(mean_top_100)\n",
    "print(dict(zip(feature_names[1:],mean_top_100)))"
   ]
  },
  {
   "cell_type": "markdown",
   "metadata": {},
   "source": [
    "في هذا الكود، يتم القيام بالخطوات التالية:\n",
    "\n",
    "1. **الحصول على أعلى 100 قيمة لكل ميزة:**\n",
    "   ```python\n",
    "   top_100_indices = np.argpartition(np.nan_to_num(nparray[:, 1:]), -100, axis=0)[-100:]\n",
    "   ```\n",
    "   يتم استخدام `np.argpartition` للحصول على مؤشرات أعلى 100 قيمة لكل ميزة. `np.nan_to_num` يستخدم لتحويل NaN إلى صفر لتجنب مشاكل مع العمليات الحسابية.\n",
    "\n",
    "2. **استخراج القيم المرتبة:**\n",
    "   ```python\n",
    "   top_100_values = np.take_along_axis(nparray[:, 1:], top_100_indices, axis=0)\n",
    "   ```\n",
    "   يتم استخدام `np.take_along_axis` لاستخراج القيم المرتبة وفقًا للمؤشرات.\n",
    "\n",
    "3. **حساب المتوسط لأعلى 100 قيمة لكل ميزة:**\n",
    "   ```python\n",
    "   mean_top_100 = np.nanmean(top_100_values, axis=0)\n",
    "   ```\n",
    "   يتم استخدام `np.nanmean` لحساب المتوسط، حيث يتم تجاهل القيم المفقودة (NaN).\n",
    "\n",
    "4. **طباعة المتوسط لكل ميزة:**\n",
    "   ```python\n",
    "   print(mean_top_100)\n",
    "   ```\n",
    "   يتم طباعة المتوسط لأعلى 100 قيمة لكل ميزة.\n",
    "\n",
    "5. **تحويل النتائج إلى قاموس:**\n",
    "   ```python\n",
    "   print(dict(zip(feature_names[1:], mean_top_100)))\n",
    "   ```\n",
    "   يتم تحويل النتائج إلى قاموس باستخدام `zip` و `dict` لربط اسماء الميزات بالقيم المتوسطة لها.\n",
    "\n",
    "هذا الكود يُظهر المتوسط لأعلى 100 قيمة لكل ميزة في مجموعة البيانات."
   ]
  },
  {
   "cell_type": "markdown",
   "metadata": {},
   "source": [
    "8. Calculate the mean and standard deviation of “Respiratory rate” values. Then, identify \n",
    "the patient IDs with 2 standard deviation away from the mean of “Respiratory rate”\n",
    "feature."
   ]
  },
  {
   "cell_type": "code",
   "execution_count": 42,
   "metadata": {},
   "outputs": [
    {
     "name": "stdout",
     "output_type": "stream",
     "text": [
      "the ID number of the values with 2 standard deviation away from the mean of Respiratory rate  [127360. 191289. 116888. 113812. 138440. 190054. 153366. 116367. 133975.\n",
      " 152960. 145790. 108084. 107777. 126474. 107462. 141222. 130354. 128899.\n",
      " 180135. 173649. 151364. 154468. 155273. 109577. 153207. 166585. 155044.\n",
      " 110347. 120626. 128969. 133499. 192198. 110335. 175630. 166387. 149010.\n",
      " 196357. 161407. 184331. 145202. 102433. 111327. 123701. 145333. 150871.\n",
      " 111573. 126717. 161037. 180744. 145248. 113009. 182813. 146160. 159785.]\n"
     ]
    }
   ],
   "source": [
    "Respiratory_rate=nparray[::,17]\n",
    "mean=np.nanmean(Respiratory_rate)\n",
    "std=np.nanstd(Respiratory_rate)\n",
    "min = mean - 2 * std\n",
    "max = mean + 2 * std\n",
    "mask = (Respiratory_rate < min) | (Respiratory_rate > max)\n",
    "_id=nparray[::,0]\n",
    "std2=_id[mask]\n",
    "print(\"the ID number of the values with 2 standard deviation away from the mean of Respiratory rate \",std2)"
   ]
  },
  {
   "cell_type": "markdown",
   "metadata": {},
   "source": [
    "في هذا الكود، يتم القيام بالخطوات التالية:\n",
    "\n",
    "1. **حساب المتوسط والانحراف المعياري لمعدل التنفس:**\n",
    "   ```python\n",
    "   Respiratory_rate = nparray[:, 17]\n",
    "   mean = np.nanmean(Respiratory_rate)\n",
    "   std = np.nanstd(Respiratory_rate)\n",
    "   ```\n",
    "\n",
    "   يتم حساب المتوسط والانحراف المعياري باستخدام `np.nanmean` و `np.nanstd` على التوالي.\n",
    "\n",
    "2. **تحديد الحدود السفلى والعليا:**\n",
    "   ```python\n",
    "   min = mean - 2 * std\n",
    "   max = mean + 2 * std\n",
    "   ```\n",
    "\n",
    "   يتم حساب الحدود السفلى والعليا عن طريق ضرب الانحراف المعياري في 2 وإضافته وطرحه من المتوسط.\n",
    "\n",
    "3. **تحديد القيم التي تبتعد عن المتوسط بمقدار 2 انحراف معياري:**\n",
    "   ```python\n",
    "   mask = (Respiratory_rate < min) | (Respiratory_rate > max)\n",
    "   ```\n",
    "\n",
    "   يتم إنشاء قناع (`mask`) يحدد القيم التي تقع خارج النطاق المحدد.\n",
    "\n",
    "4. **الحصول على أرقام الهوية للقيم التي تبتعد بمقدار انحرافين معياريين عن المتوسط:**\n",
    "   ```python\n",
    "   _id = nparray[:, 0]\n",
    "   std2 = _id[mask]\n",
    "   ```\n",
    "\n",
    "   يتم استخدام القناع لاستخراج أرقام الهوية للقيم التي تبتعد بمقدار انحرافين معياريين عن المتوسط.\n",
    "\n",
    "5. **طباعة النتائج:**\n",
    "   ```python\n",
    "   print(\"The ID numbers of the values with 2 standard deviations away from the mean of Respiratory rate:\", std2)\n",
    "   ```\n",
    "\n",
    "   يتم طباعة أرقام الهوية للقيم التي تبتعد بمقدار انحرافين معياريين عن المتوسط.\n",
    "\n",
    "هذا الكود يساعد في تحديد القيم التي تبتعد بشكل كبير عن المتوسط في ميزة معدل التنفس في مجموعة البيانات."
   ]
  },
  {
   "cell_type": "markdown",
   "metadata": {},
   "source": [
    "9. Compute the distance matrix among patients and determine the k-NN (k-nearest \n",
    "neighbors), where k = 3, for each patient using the np.argpartition function"
   ]
  },
  {
   "cell_type": "code",
   "execution_count": 43,
   "metadata": {},
   "outputs": [],
   "source": [
    "ndarray=nparray[::,1:]"
   ]
  },
  {
   "cell_type": "markdown",
   "metadata": {},
   "source": [
    "تبدو وكأنك قمت بإنشاء مصفوفة جديدة باسم \"ndarray\" عن طريق استبعاد العمود الأول (الذي يحتمل أن يحتوي على معرفات مثل الهويات) من المصفوفة الأصلية \"nparray\". يتم هذا النوع من العمليات غالبًا لفصل الميزات عن المعرفات في مجموعة البيانات.\n",
    "\n",
    "إذا كان لديك أي عمليات محددة أو أسئلة تود القيام بها أو طرحها بشأن هذه المصفوفة الجديدة، فلا تتردد في إعلامي!"
   ]
  },
  {
   "cell_type": "code",
   "execution_count": 44,
   "metadata": {},
   "outputs": [
    {
     "name": "stdout",
     "output_type": "stream",
     "text": [
      "nearest_partition [[   0  835  883 ...    7    4 1176]\n",
      " [ 785    0  784 ...    3    2 1176]\n",
      " [   2 1013    0 ...    7    4 1176]\n",
      " ...\n",
      " [ 785  787  784 ...    0    2 1176]\n",
      " [ 785  787  784 ...    3    0 1176]\n",
      " [ 785  787  784 ...    3    2    0]]\n"
     ]
    }
   ],
   "source": [
    "dist_sq = np.nansum((ndarray[:, np.newaxis, :] - ndarray[np.newaxis, :, :]) ** 2, axis=-1)\n",
    "differences = ndarray[:, np.newaxis, :] - ndarray[np.newaxis, :, :]\n",
    "sq_differences = differences ** 2\n",
    "dist_sq = sq_differences.sum(2)\n",
    "nearest = np.argsort(dist_sq, axis=1)\n",
    "K = 3\n",
    "nearest_partition = np.argpartition(dist_sq, K , axis=1)\n",
    "np.fill_diagonal(nearest_partition,0)\n",
    "print(\"nearest_partition\",nearest_partition)"
   ]
  },
  {
   "cell_type": "markdown",
   "metadata": {},
   "source": [
    "هذا الكود يستخدم لحساب المسافة الإقليدية (Euclidean distance) بين جميع النقاط في مصفوفة `ndarray`. هنا هو شرح للخطوات:\n",
    "\n",
    "1. **حساب فرق القيم بين النقاط:**\n",
    "   ```python\n",
    "   differences = ndarray[:, np.newaxis, :] - ndarray[np.newaxis, :, :]\n",
    "   sq_differences = differences ** 2\n",
    "   ```\n",
    "   يتم حساب فرق القيم بين النقاط وتربيعها. يُستخدم `[:, np.newaxis, :]` لإضافة بُعد إضافي للمصفوفة.\n",
    "\n",
    "2. **حساب مجموع التربيعات:**\n",
    "   ```python\n",
    "   dist_sq = sq_differences.sum(2)\n",
    "   ```\n",
    "   يتم حساب مجموع التربيعات لكل زوج من النقاط للحصول على المسافة الإقليدية.\n",
    "\n",
    "3. **ترتيب النقاط بحسب المسافة:**\n",
    "   ```python\n",
    "   nearest = np.argsort(dist_sq, axis=1)\n",
    "   ```\n",
    "   يتم ترتيب النقاط بحسب المسافة، حيث يحتوي `nearest` على المؤشرات التي تُظهر الترتيب.\n",
    "\n",
    "4. **تقسيم النقاط إلى أقرب جيران:**\n",
    "   ```python\n",
    "   K = 3\n",
    "   nearest_partition = np.argpartition(dist_sq, K , axis=1)\n",
    "   np.fill_diagonal(nearest_partition, 0)\n",
    "   ```\n",
    "   يتم تقسيم النقاط إلى K أقرب جيران باستخدام `np.argpartition`. `np.fill_diagonal` تُستخدم لتعبئة القيم على القطر الرئيسي بصفر.\n",
    "\n",
    "5. **طباعة النتائج:**\n",
    "   ```python\n",
    "   print(\"nearest_partition\", nearest_partition)\n",
    "   ```\n",
    "   يتم طباعة مصفوفة `nearest_partition` التي تحتوي على مؤشرات أقرب الجيران لكل نقطة.\n",
    "\n",
    "يبدو أن هذا الكود يُستخدم لتحديد أقرب الجيران لكل نقطة في المصفوفة `ndarray` باستخدام المسافة الإقليدية."
   ]
  },
  {
   "cell_type": "markdown",
   "metadata": {},
   "source": [
    "10. Compute the Pearson correlation coefficient between each pair of patients. Subsequently,\n",
    "identify the pair of patients with the highest correlation coefficient. Provide the \n",
    "correlation matrix, which should be a square matrix."
   ]
  },
  {
   "cell_type": "markdown",
   "metadata": {},
   "source": [
    "10. Compute the Pearson correlation coefficient between each pair of patients. Subsequently,\n",
    "identify the pair of patients with the highest correlation coefficient. Provide the \n",
    "correlation matrix, which should be a square matrix."
   ]
  },
  {
   "cell_type": "markdown",
   "metadata": {},
   "source": []
  },
  {
   "cell_type": "markdown",
   "metadata": {},
   "source": [
    "هذا الكود يقوم بحساب معامل الارتباط (correlation coefficient) بين جميع الأزواج من النقاط في مصفوفة `nparray`. هنا هو شرح الخطوات:\n",
    "\n",
    "1. **حساب معامل الارتباط:**\n",
    "   ```python\n",
    "   correlation_matrix = np.corrcoef(np.nan_to_num(nparray), rowvar=False)\n",
    "   ```\n",
    "   يتم حساب معامل الارتباط باستخدام `np.corrcoef`. `np.nan_to_num` يُستخدم لتحويل NaN إلى صفر لتجنب مشاكل مع العمليات الحسابية.\n",
    "\n",
    "2. **تعبئة القطر الرئيسي بقيمة معينة:**\n",
    "   ```python\n",
    "   np.fill_diagonal(correlation_matrix, -1)\n",
    "   ```\n",
    "   يتم تعبئة القطر الرئيسي بقيمة -1 لتحديد أن معامل الارتباط مع نفس النقطة هو -1.\n",
    "\n",
    "3. **العثور على أعلى معامل ارتباط والمواقع المتعلقة:**\n",
    "   ```python\n",
    "   max_corr_index = np.unravel_index(np.argmax(correlation_matrix), correlation_matrix.shape)\n",
    "   patient1, patient2 = max_corr_index\n",
    "   ```\n",
    "   يتم استخدام `np.argmax` للعثور على أعلى قيمة في المصفوفة و `np.unravel_index` لتحويل المؤشر إلى الإحداثيات في المصفوفة.\n",
    "\n",
    "4. **طباعة النتائج:**\n",
    "   ```python\n",
    "   print(\"correlation Matrix\")\n",
    "   print(correlation_matrix)\n",
    "   print(\"the highest correlation coefficient:\")\n",
    "   print(f\"Patient1 {patient1}\")\n",
    "   print(f\"Patient2 {patient2}\")\n",
    "   print(f\"coefficient = {correlation_matrix[patient1, patient2]}\")\n",
    "   ```\n",
    "   يتم طباعة مصفوفة معاملات الارتباط والزوج الذي يحمل أعلى قيمة لمعامل الارتباط مع القيمة المقابلة.\n",
    "\n",
    "هذا الكود يُظهر العلاقة بين النقاط من حيث معاملات الارتباط، ويحدد الزوج الذي يحمل أعلى قيمة لمعامل الارتباط والقيمة المقابلة."
   ]
  }
 ],
 "metadata": {
  "kernelspec": {
   "display_name": "base",
   "language": "python",
   "name": "python3"
  },
  "language_info": {
   "codemirror_mode": {
    "name": "ipython",
    "version": 3
   },
   "file_extension": ".py",
   "mimetype": "text/x-python",
   "name": "python",
   "nbconvert_exporter": "python",
   "pygments_lexer": "ipython3",
   "version": "3.11.5"
  }
 },
 "nbformat": 4,
 "nbformat_minor": 2
}
